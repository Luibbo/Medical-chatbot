{
 "cells": [
  {
   "cell_type": "code",
   "execution_count": 1,
   "id": "3a1df385",
   "metadata": {},
   "outputs": [
    {
     "name": "stderr",
     "output_type": "stream",
     "text": [
      "c:\\Users\\loq\\anaconda3\\envs\\mchatbot_env\\lib\\site-packages\\tqdm\\auto.py:21: TqdmWarning: IProgress not found. Please update jupyter and ipywidgets. See https://ipywidgets.readthedocs.io/en/stable/user_install.html\n",
      "  from .autonotebook import tqdm as notebook_tqdm\n"
     ]
    }
   ],
   "source": [
    "from langchain import PromptTemplate\n",
    "from langchain.chains import RetrievalQA\n",
    "from langchain.embeddings import HuggingFaceEmbeddings\n",
    "from pinecone import Pinecone\n",
    "from langchain_pinecone import PineconeVectorStore\n",
    "from langchain.document_loaders import PyPDFLoader, DirectoryLoader, PyPDFDirectoryLoader\n",
    "from langchain.text_splitter import RecursiveCharacterTextSplitter\n",
    "from langchain.prompts import PromptTemplate\n",
    "from langchain.llms import CTransformers"
   ]
  },
  {
   "cell_type": "code",
   "execution_count": 2,
   "id": "2e63bb38",
   "metadata": {},
   "outputs": [
    {
     "data": {
      "text/plain": [
       "True"
      ]
     },
     "execution_count": 2,
     "metadata": {},
     "output_type": "execute_result"
    }
   ],
   "source": [
    "from dotenv import load_dotenv\n",
    "import os\n",
    "\n",
    "load_dotenv()"
   ]
  },
  {
   "cell_type": "code",
   "execution_count": 3,
   "id": "084e5a8a",
   "metadata": {},
   "outputs": [],
   "source": [
    "PINECONE_KEY = os.getenv(\"PINECONE_API_KEY\")"
   ]
  },
  {
   "cell_type": "code",
   "execution_count": 4,
   "id": "78ecafca",
   "metadata": {},
   "outputs": [],
   "source": [
    "def load_pdf(path):\n",
    "    loader = DirectoryLoader(path,\n",
    "                    glob=\"*.pdf\",\n",
    "                    loader_cls=PyPDFLoader)\n",
    "    documents = loader.load()\n",
    "    return documents"
   ]
  },
  {
   "cell_type": "code",
   "execution_count": 5,
   "id": "23334d1a",
   "metadata": {},
   "outputs": [
    {
     "data": {
      "text/plain": [
       "Document(metadata={'producer': 'PDFlib+PDI 5.0.0 (SunOS)', 'creator': 'PyPDF', 'creationdate': '2004-12-18T17:00:02-05:00', 'moddate': '2004-12-18T16:15:31-06:00', 'source': 'data\\\\Medical_book.pdf', 'total_pages': 637, 'page': 10, 'page_label': '11'}, page_content='Rhonda Cloos, R.N.\\nMedical Writer\\nAustin, TX\\nGloria Cooksey, C.N.E\\nMedical Writer\\nSacramento, CA\\nAmy Cooper, M.A., M.S.I.\\nMedical Writer\\nVermillion, SD\\nDavid A. Cramer, M.D.\\nMedical Writer\\nChicago, IL\\nEsther Csapo Rastega, R.N., B.S.N.\\nMedical Writer\\nHolbrook, MA\\nArnold Cua, M.D.\\nPhysician\\nBrooklyn, NY\\nTish Davidson, A.M.\\nMedical Writer\\nFremont, California\\nDominic De Bellis, Ph.D.\\nMedical Writer/Editor\\nMahopac, NY\\nLori De Milto\\nMedical Writer\\nSicklerville, NJ\\nRobert S. Dinsmoor\\nMedical Writer\\nSouth Hamilton, MA\\nStephanie Dionne, B.S.\\nMedical Writer\\nAnn Arbor, MI\\nMartin W. Dodge, Ph.D.\\nTechnical Writer/Editor\\nCentinela Hospital and Medical\\nCenter\\nInglewood, CA\\nDavid Doermann\\nMedical Writer\\nSalt Lake City, UT\\nStefanie B. N. Dugan, M.S.\\nGenetic Counselor\\nMilwaukee, WI\\nDoug Dupler, M.A.\\nScience Writer\\nBoulder, CO\\nJulie A. Gelderloos\\nBiomedical Writer\\nPlaya del Rey, CA\\nGary Gilles, M.A.\\nMedical Writer\\nWauconda, IL\\nHarry W. Golden\\nMedical Writer\\nShoreline Medical Writers\\nOld Lyme, CT\\nDebra Gordon\\nMedical Writer\\nNazareth, PA\\nMegan Gourley\\nWriter\\nGermantown, MD\\nJill Granger, M.S.\\nSenior Research Associate\\nUniversity of Michigan\\nAnn Arbor, MI\\nAlison Grant\\nMedical Writer\\nAverill Park, NY\\nElliot Greene, M.A.\\nformer president, American\\nMassage Therapy Association\\nMassage Therapist\\nSilver Spring, MD\\nPeter Gregutt\\nWriter\\nAsheville, NC\\nLaith F. Gulli, M.D.\\nM.Sc., M.Sc.(MedSci), M.S.A.,\\nMsc.Psych, MRSNZ\\nFRSH, FRIPHH, FAIC, FZS\\nDAPA, DABFC, DABCI\\nConsultant Psychotherapist in\\nPrivate Practice\\nLathrup Village, MI\\nKapil Gupta, M.D.\\nMedical Writer\\nWinston-Salem, NC\\nMaureen Haggerty\\nMedical Writer\\nAmbler, PA\\nClare Hanrahan\\nMedical Writer\\nAsheville, NC\\nThomas Scott Eagan\\nStudent Researcher\\nUniversity of Arizona\\nTucson, AZ\\nAltha Roberts Edgren\\nMedical Writer\\nMedical Ink\\nSt. Paul, MN\\nKaren Ericson, R.N.\\nMedical Writer\\nEstes Park, CO\\nL. Fleming Fallon Jr., M.D.,\\nDr.PH\\nAssociate Professor of Public\\nHealth\\nBowling Green State University\\nBowling Green, OH\\nFaye Fishman, D.O.\\nPhysician\\nRandolph, NJ\\nJanis Flores\\nMedical Writer\\nLexikon Communications\\nSebastopol, CA\\nRisa Flynn\\nMedical Writer\\nCulver City, CA\\nPaula Ford-Martin\\nMedical Writer\\nChaplin, MN\\nJanie F. Franz\\nWriter\\nGrand Forks, ND\\nSallie Freeman, Ph.D., B.S.N.\\nMedical Writer\\nAtlanta, GA\\nRebecca J. Frey, Ph.D.\\nResearch and Administrative\\nAssociate\\nEast Rock Institute\\nNew Haven, CT\\nCynthia L. Frozena, R.N.\\nNurse, Medical Writer\\nManitowoc, WI\\nRon Gasbarro, Pharm.D.\\nMedical Writer\\nNew Milford, PA\\nGALE ENCYCLOPEDIA OF MEDICINE 2XIV\\nContributors')"
      ]
     },
     "execution_count": 5,
     "metadata": {},
     "output_type": "execute_result"
    }
   ],
   "source": [
    "extracted_data = load_pdf(\"data/\")\n",
    "\n",
    "extracted_data[10]"
   ]
  },
  {
   "cell_type": "code",
   "execution_count": 6,
   "id": "ce2a6f1d",
   "metadata": {},
   "outputs": [],
   "source": [
    "def text_split(extracted_data):\n",
    "    text_splitter = RecursiveCharacterTextSplitter(\n",
    "        chunk_size=500,\n",
    "        chunk_overlap=20)\n",
    "    \n",
    "    text_chunks = text_splitter.split_documents(extracted_data)\n",
    "\n",
    "    return text_chunks\n",
    "    "
   ]
  },
  {
   "cell_type": "code",
   "execution_count": 7,
   "id": "43415f1c",
   "metadata": {},
   "outputs": [
    {
     "name": "stdout",
     "output_type": "stream",
     "text": [
      " 5859\n"
     ]
    }
   ],
   "source": [
    "text_chunks = text_split(extracted_data)\n",
    "print(f\"\", len(text_chunks))"
   ]
  },
  {
   "cell_type": "code",
   "execution_count": 8,
   "id": "83fbf9b1",
   "metadata": {},
   "outputs": [],
   "source": [
    "def download_huggingface_embeddings():\n",
    "    embeddings = HuggingFaceEmbeddings(model_name=\"sentence-transformers/all-MiniLM-L6-v2\")\n",
    "    return embeddings"
   ]
  },
  {
   "cell_type": "code",
   "execution_count": 9,
   "id": "86accab4",
   "metadata": {},
   "outputs": [
    {
     "name": "stderr",
     "output_type": "stream",
     "text": [
      "C:\\Users\\loq\\AppData\\Local\\Temp\\ipykernel_13824\\2369764410.py:2: LangChainDeprecationWarning: The class `HuggingFaceEmbeddings` was deprecated in LangChain 0.2.2 and will be removed in 1.0. An updated version of the class exists in the :class:`~langchain-huggingface package and should be used instead. To use it run `pip install -U :class:`~langchain-huggingface` and import as `from :class:`~langchain_huggingface import HuggingFaceEmbeddings``.\n",
      "  embeddings = HuggingFaceEmbeddings(model_name=\"sentence-transformers/all-MiniLM-L6-v2\")\n"
     ]
    }
   ],
   "source": [
    "embeddings = download_huggingface_embeddings()"
   ]
  },
  {
   "cell_type": "code",
   "execution_count": 10,
   "id": "69da400c",
   "metadata": {},
   "outputs": [
    {
     "data": {
      "text/plain": [
       "HuggingFaceEmbeddings(client=SentenceTransformer(\n",
       "  (0): Transformer({'max_seq_length': 256, 'do_lower_case': False, 'architecture': 'BertModel'})\n",
       "  (1): Pooling({'word_embedding_dimension': 384, 'pooling_mode_cls_token': False, 'pooling_mode_mean_tokens': True, 'pooling_mode_max_tokens': False, 'pooling_mode_mean_sqrt_len_tokens': False, 'pooling_mode_weightedmean_tokens': False, 'pooling_mode_lasttoken': False, 'include_prompt': True})\n",
       "  (2): Normalize()\n",
       "), model_name='sentence-transformers/all-MiniLM-L6-v2', cache_folder=None, model_kwargs={}, encode_kwargs={}, multi_process=False, show_progress=False)"
      ]
     },
     "execution_count": 10,
     "metadata": {},
     "output_type": "execute_result"
    }
   ],
   "source": [
    "embeddings"
   ]
  },
  {
   "cell_type": "code",
   "execution_count": 11,
   "id": "b907d49a",
   "metadata": {},
   "outputs": [
    {
     "name": "stdout",
     "output_type": "stream",
     "text": [
      "Lenght: 384\n"
     ]
    }
   ],
   "source": [
    "query_result = embeddings.embed_query(\"Hello world\")\n",
    "print(f\"Lenght: {len(query_result)}\")\n"
   ]
  },
  {
   "cell_type": "code",
   "execution_count": 13,
   "id": "507264af",
   "metadata": {},
   "outputs": [],
   "source": [
    "pc = Pinecone(api_key=PINECONE_KEY)\n",
    "index_name = 'medical-bot-index'"
   ]
  },
  {
   "cell_type": "code",
   "execution_count": 14,
   "id": "450224e1",
   "metadata": {},
   "outputs": [],
   "source": [
    "index = pc.Index(name=index_name)"
   ]
  },
  {
   "cell_type": "code",
   "execution_count": 16,
   "id": "c895dffd",
   "metadata": {},
   "outputs": [],
   "source": [
    "# docsearch = Pinecone.from_texts([t.page_content for t in text_chunks], embeddings, index_name=index_name)\n",
    "vector_store = PineconeVectorStore(index=index, embedding=embeddings)"
   ]
  },
  {
   "cell_type": "code",
   "execution_count": 17,
   "id": "6cb81c8e",
   "metadata": {},
   "outputs": [],
   "source": [
    "docsearch = vector_store.add_texts(texts=[t.page_content for t in text_chunks])"
   ]
  },
  {
   "cell_type": "code",
   "execution_count": 20,
   "id": "d9ccea78",
   "metadata": {},
   "outputs": [
    {
     "name": "stdout",
     "output_type": "stream",
     "text": [
      "* Purpose\n",
      "Allergy is a reaction of the immune system. Nor-\n",
      "mally, the immune system responds to foreign microor-\n",
      "ganisms and particles, like pollen or dust, by producing\n",
      "specific proteins called antibodies that are capable of\n",
      "binding to identifying molecules, or antigens, on the\n",
      "foreign organisms. This reaction between antibody and\n",
      "antigen sets off a series of reactions designed to protect\n",
      "the body from infection. Sometimes, this same series of [{}]\n",
      "* reaction. Allergic rhinitis is characterized by an itchy,\n",
      "runny nose, often with a scratchy or irritated throat due\n",
      "to post-nasal drip. Inflammation of the thin membrane\n",
      "covering the eye (allergic conjunctivitis) causes redness,\n",
      "irritation, and increased tearing in the eyes. Asthma caus-\n",
      "es wheezing, coughing, and shortness of breath. Symp-\n",
      "toms of food allergies depend on the tissues most sensi-\n",
      "tive to the allergen and whether the allergen spread sys- [{}]\n",
      "* KEY TERMS\n",
      "Allergen —A substance that provokes an allergic\n",
      "response.\n",
      "Anaphylaxis—Increased sensitivity caused by pre-\n",
      "vious exposure to an allergen that can result in\n",
      "blood vessel dilation (swelling) and smooth mus-\n",
      "cle contraction. Anaphylaxis can result in sharp\n",
      "blood pressure drops and difficulty breathing.\n",
      "Antibody —A specific protein produced by the\n",
      "immune system in response to a specific foreign\n",
      "protein or particle called an antigen.\n",
      "Antigen —A foreign protein to which the body [{}]\n"
     ]
    }
   ],
   "source": [
    "query = \"What are Allergies\"\n",
    "\n",
    "docs = vector_store.similarity_search(query, k=3)\n",
    "for res in docs:\n",
    "    print(f\"* {res.page_content} [{res.metadata}]\")"
   ]
  },
  {
   "cell_type": "code",
   "execution_count": 21,
   "id": "5c7e8daf",
   "metadata": {},
   "outputs": [],
   "source": [
    "prompt_template = \"\"\"\n",
    "Use the following pieces of information to answer the user's question.\n",
    "If you don't know the answer, just say that you don't know, don't try to make up the answer.\n",
    "\n",
    "Context: {context}\n",
    "Question: {question}\n",
    "\n",
    "Only return the helpful answer below and nothing else.\n",
    "Helpful answer:\n",
    "\"\"\""
   ]
  },
  {
   "cell_type": "code",
   "execution_count": 22,
   "id": "72c2a367",
   "metadata": {},
   "outputs": [],
   "source": [
    "prompt = PromptTemplate(template=prompt_template, input_variables=['context', 'question'])\n",
    "chain_type_kwargs = {'prompt': prompt}"
   ]
  },
  {
   "cell_type": "code",
   "execution_count": null,
   "id": "83ea71a9",
   "metadata": {},
   "outputs": [],
   "source": []
  }
 ],
 "metadata": {
  "kernelspec": {
   "display_name": "mchatbot_env",
   "language": "python",
   "name": "python3"
  },
  "language_info": {
   "codemirror_mode": {
    "name": "ipython",
    "version": 3
   },
   "file_extension": ".py",
   "mimetype": "text/x-python",
   "name": "python",
   "nbconvert_exporter": "python",
   "pygments_lexer": "ipython3",
   "version": "3.10.18"
  }
 },
 "nbformat": 4,
 "nbformat_minor": 5
}
